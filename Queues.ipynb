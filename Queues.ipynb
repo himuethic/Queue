{
  "nbformat": 4,
  "nbformat_minor": 0,
  "metadata": {
    "colab": {
      "provenance": [],
      "authorship_tag": "ABX9TyMSU1ROdVoxS/SkE1a0Jb7g",
      "include_colab_link": true
    },
    "kernelspec": {
      "name": "python3",
      "display_name": "Python 3"
    },
    "language_info": {
      "name": "python"
    }
  },
  "cells": [
    {
      "cell_type": "markdown",
      "metadata": {
        "id": "view-in-github",
        "colab_type": "text"
      },
      "source": [
        "<a href=\"https://colab.research.google.com/github/himuethic/Queue/blob/main/Queues.ipynb\" target=\"_parent\"><img src=\"https://colab.research.google.com/assets/colab-badge.svg\" alt=\"Open In Colab\"/></a>"
      ]
    },
    {
      "cell_type": "code",
      "execution_count": 1,
      "metadata": {
        "id": "CMB4zSj1P5Nu"
      },
      "outputs": [],
      "source": [
        "class Node :\n",
        "\n",
        "   def __init__(self,value):\n",
        "     self.data = value\n",
        "     self.next = None"
      ]
    },
    {
      "cell_type": "code",
      "source": [
        "class queue:\n",
        "\n",
        "   def __init__(self):\n",
        "    self.front = None\n",
        "    self.rear = None\n",
        "\n",
        "   def enqueue(self,value):\n",
        "\n",
        "    new_node = Node(value)\n",
        "\n",
        "    if self.rear == None:\n",
        "     self.front = new_node\n",
        "     self.rear = self.front\n",
        "\n",
        "    else:\n",
        "      self.rear.next = new_node\n",
        "      self.rear = new_node\n",
        "\n",
        "   def dequeue(self):\n",
        "     if self.front == None:\n",
        "       return ('empty')\n",
        "     else:\n",
        "      self.front = self.front.next\n",
        "\n",
        "   def is_empty(self):\n",
        "    return self.front == None\n",
        "\n",
        "   def size(self):\n",
        "    temp = self.front\n",
        "    counter = 0\n",
        "\n",
        "    while temp != None:\n",
        "     counter+= 1\n",
        "     temp = temp.next\n",
        "    return counter\n",
        "\n",
        "   def front_item(self):\n",
        "    if self.front == None:\n",
        "     return 'empty'\n",
        "    else:\n",
        "     return self.front.data\n",
        "\n",
        "   def rear_item(self):\n",
        "    if self.front == None:\n",
        "     return 'empty'\n",
        "    else:\n",
        "     return self.rear.data\n",
        "\n",
        "\n",
        "\n",
        "\n",
        "\n",
        "\n",
        "   def traverse(self):\n",
        "    temp = self.front\n",
        "\n",
        "    while temp!= None:\n",
        "     print(temp.data,end = ' ')\n",
        "     temp = temp.next"
      ],
      "metadata": {
        "id": "k6QxgMVRQ7ag"
      },
      "execution_count": 23,
      "outputs": []
    },
    {
      "cell_type": "code",
      "source": [
        "q = queue()"
      ],
      "metadata": {
        "id": "097W466bVIF1"
      },
      "execution_count": 32,
      "outputs": []
    },
    {
      "cell_type": "code",
      "source": [
        "q.enqueue(4)\n",
        "q.enqueue(5)\n",
        "q.enqueue(6)"
      ],
      "metadata": {
        "id": "I4YKmoJTVaRd"
      },
      "execution_count": 33,
      "outputs": []
    },
    {
      "cell_type": "code",
      "source": [
        "q.traverse()"
      ],
      "metadata": {
        "id": "Jo6VlkpEVlJ1"
      },
      "execution_count": 19,
      "outputs": []
    },
    {
      "cell_type": "code",
      "source": [
        "q.dequeue()"
      ],
      "metadata": {
        "colab": {
          "base_uri": "https://localhost:8080/",
          "height": 35
        },
        "id": "pNWfsCEzV5e6",
        "outputId": "f2f7225e-2683-4f9a-bd9d-114d5df08562"
      },
      "execution_count": 20,
      "outputs": [
        {
          "output_type": "execute_result",
          "data": {
            "text/plain": [
              "'empty'"
            ],
            "application/vnd.google.colaboratory.intrinsic+json": {
              "type": "string"
            }
          },
          "metadata": {},
          "execution_count": 20
        }
      ]
    },
    {
      "cell_type": "code",
      "source": [
        "q.is_empty()"
      ],
      "metadata": {
        "colab": {
          "base_uri": "https://localhost:8080/"
        },
        "id": "hZ_RoMHMYY7i",
        "outputId": "6d5e5a6a-af29-496f-f8d0-0751e2b0ea4b"
      },
      "execution_count": 27,
      "outputs": [
        {
          "output_type": "execute_result",
          "data": {
            "text/plain": [
              "False"
            ]
          },
          "metadata": {},
          "execution_count": 27
        }
      ]
    },
    {
      "cell_type": "code",
      "source": [
        "q.front_item()"
      ],
      "metadata": {
        "colab": {
          "base_uri": "https://localhost:8080/"
        },
        "id": "mD2rVmrfYncs",
        "outputId": "37e6e625-3497-4a26-b92d-9067af0ddcc8"
      },
      "execution_count": 35,
      "outputs": [
        {
          "output_type": "execute_result",
          "data": {
            "text/plain": [
              "4"
            ]
          },
          "metadata": {},
          "execution_count": 35
        }
      ]
    },
    {
      "cell_type": "code",
      "source": [
        "q.rear_item()"
      ],
      "metadata": {
        "colab": {
          "base_uri": "https://localhost:8080/"
        },
        "id": "Cg3GP5J_Y0GZ",
        "outputId": "b47a20b9-5958-47e0-a320-d2b731498e42"
      },
      "execution_count": 36,
      "outputs": [
        {
          "output_type": "execute_result",
          "data": {
            "text/plain": [
              "6"
            ]
          },
          "metadata": {},
          "execution_count": 36
        }
      ]
    }
  ]
}